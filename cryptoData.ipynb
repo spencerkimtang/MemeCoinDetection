{
 "cells": [
  {
   "cell_type": "code",
   "execution_count": 2,
   "id": "ac933eb8-af35-4ef9-ad52-367a3ed45b3c",
   "metadata": {},
   "outputs": [
    {
     "name": "stdout",
     "output_type": "stream",
     "text": [
      "Collecting kafka-python\n",
      "  Downloading kafka_python-2.0.2-py2.py3-none-any.whl (246 kB)\n",
      "\u001b[K     |████████████████████████████████| 246 kB 3.3 MB/s eta 0:00:01\n",
      "\u001b[?25hInstalling collected packages: kafka-python\n",
      "Successfully installed kafka-python-2.0.2\n"
     ]
    }
   ],
   "source": [
    "#!pip install pycoingecko\n",
    "!pip install kafka-python"
   ]
  },
  {
   "cell_type": "code",
   "execution_count": 6,
   "id": "748087b1-435d-4876-b41d-413de0132ffa",
   "metadata": {},
   "outputs": [],
   "source": [
    "import pandas as pd\n",
    "from pycoingecko import CoinGeckoAPI\n",
    "from kafka import KafkaConsumer, KafkaProducer"
   ]
  },
  {
   "cell_type": "code",
   "execution_count": 15,
   "id": "274a7c6a-e826-4180-96ce-583c8bae317f",
   "metadata": {},
   "outputs": [],
   "source": [
    "def get_crypto_data():\n",
    "    \n",
    "    crypto_list = [\n",
    "        #\"bitcoin\",\n",
    "        # \"ethereum\",\n",
    "        # \"ripple\",\n",
    "        # \"bitcoin-cash\",\n",
    "         \"cardano\"\n",
    "        # \"bitcoin-cash-sv\",\n",
    "        # \"litecoin\",\n",
    "        # \"chainlink\",\n",
    "        # \"binancecoin\",\n",
    "        # \"eos\",\n",
    "        # \"tron\",\n",
    "    ]\n",
    "    \n",
    "    #connect to API\n",
    "    api = CoinGeckoAPI()\n",
    "    timePeriod = 20 #data backed to about 6/1/2020\n",
    "    \n",
    "    #connect to kafka\n",
    "    producer = KafkaProducer(bootstrap_servers='localhost:9092',api_version=(0,11,5))\n",
    "    topic_name='crypto_data'\n",
    "\n",
    "    #getting crypto prices \n",
    "    data = {}\n",
    "    for coin in crypto_list:\n",
    "        try:\n",
    "            nested_lists = api.get_coin_market_chart_by_id(id=coin, vs_currency=\"usd\", days=timePeriod)[\"prices\"]\n",
    "            data[coin] = {}\n",
    "            #groups time and price to each coin\n",
    "            data[coin][\"timestamps\"], data[coin][\"values\"] = zip(*nested_lists)\n",
    "\n",
    "        except Exception as e:\n",
    "            print(e)\n",
    "            print(\"coin: \" + coin)\n",
    "\n",
    "    frame_list = [\n",
    "        pd.DataFrame(data[coin][\"values\"], index=data[coin][\"timestamps\"], columns=[coin])\n",
    "        for coin in crypto_list\n",
    "        if coin in data\n",
    "    ]\n",
    "    \n",
    "    #formatting dataset\n",
    "    df_crypto = pd.concat(frame_list, axis=1).sort_index()\n",
    "    df_crypto[\"datetime\"] = pd.to_datetime(df_crypto.index, unit=\"ms\")\n",
    "    df_crypto[\"date\"] = df_crypto[\"datetime\"].dt.date\n",
    "    df_crypto[\"time\"] = df_crypto[\"datetime\"].dt.time\n",
    "    df_crypto = df_crypto.melt(id_vars=[\"datetime\", \"date\", \"time\"], var_name=\"currency_name\", ignore_index=True)\n",
    "    df_crypto.dropna(inplace=True)\n",
    "    \n",
    "    #adding symbol to dataset\n",
    "    curr = dict(\n",
    "        [\n",
    "            #(\"bitcoin\", \"BTC\"),\n",
    "            # (\"ethereum\", \"ETH\"),\n",
    "            # (\"ripple\", \"XRP\"),\n",
    "            # (\"bitcoin-cash\", \"BCH\"),\n",
    "             (\"cardano\", \"ADA\")\n",
    "            # (\"bitcoin-cash-sv\", \"BSV\"),\n",
    "            # (\"litecoin\", \"LTC\"),\n",
    "            # (\"chainlink\", \"LINK\"),\n",
    "            # (\"binancecoin\", \"BNB\"),\n",
    "            # (\"tron\", \"TRON\"),\n",
    "            # (\"eos\", \"EOS\"),\n",
    "            # (\"tether\", \"USDT\"),\n",
    "        ]\n",
    "    )\n",
    "\n",
    "    df_crypto[\"coin_symbol\"] = df_crypto[\"currency_name\"].apply(lambda c: curr[c])\n",
    "    \n",
    "    #convert df to json\n",
    "    #json = df_crypto.to_json()\n",
    "\n",
    "    #sending to formatted dataset to kafka\n",
    "    producer.send(topic_name, df_crypto)\n",
    "    "
   ]
  },
  {
   "cell_type": "code",
   "execution_count": 17,
   "id": "3be5877f-18f5-4c67-b449-8210dbe86209",
   "metadata": {},
   "outputs": [
    {
     "ename": "AssertionError",
     "evalue": "",
     "output_type": "error",
     "traceback": [
      "\u001b[0;31m---------------------------------------------------------------------------\u001b[0m",
      "\u001b[0;31mAssertionError\u001b[0m                            Traceback (most recent call last)",
      "\u001b[0;32m/var/folders/nl/vsb9d8qs165fyt6j7vkbr_x80000gn/T/ipykernel_773/389396551.py\u001b[0m in \u001b[0;36m<module>\u001b[0;34m\u001b[0m\n\u001b[0;32m----> 1\u001b[0;31m \u001b[0mget_crypto_data\u001b[0m\u001b[0;34m(\u001b[0m\u001b[0;34m)\u001b[0m\u001b[0;34m\u001b[0m\u001b[0;34m\u001b[0m\u001b[0m\n\u001b[0m",
      "\u001b[0;32m/var/folders/nl/vsb9d8qs165fyt6j7vkbr_x80000gn/T/ipykernel_773/2855929369.py\u001b[0m in \u001b[0;36mget_crypto_data\u001b[0;34m()\u001b[0m\n\u001b[1;32m     74\u001b[0m \u001b[0;34m\u001b[0m\u001b[0m\n\u001b[1;32m     75\u001b[0m     \u001b[0;31m#sending to formatted dataset to kafka\u001b[0m\u001b[0;34m\u001b[0m\u001b[0;34m\u001b[0m\u001b[0m\n\u001b[0;32m---> 76\u001b[0;31m     \u001b[0mproducer\u001b[0m\u001b[0;34m.\u001b[0m\u001b[0msend\u001b[0m\u001b[0;34m(\u001b[0m\u001b[0mtopic_name\u001b[0m\u001b[0;34m,\u001b[0m \u001b[0mdf_crypto\u001b[0m\u001b[0;34m)\u001b[0m\u001b[0;34m\u001b[0m\u001b[0;34m\u001b[0m\u001b[0m\n\u001b[0m\u001b[1;32m     77\u001b[0m \u001b[0;34m\u001b[0m\u001b[0m\n",
      "\u001b[0;32m~/opt/anaconda3/lib/python3.9/site-packages/kafka/producer/kafka.py\u001b[0m in \u001b[0;36msend\u001b[0;34m(self, topic, value, key, headers, partition, timestamp_ms)\u001b[0m\n\u001b[1;32m    583\u001b[0m                 topic, value)\n\u001b[1;32m    584\u001b[0m             \u001b[0;32massert\u001b[0m \u001b[0mtype\u001b[0m\u001b[0;34m(\u001b[0m\u001b[0mkey_bytes\u001b[0m\u001b[0;34m)\u001b[0m \u001b[0;32min\u001b[0m \u001b[0;34m(\u001b[0m\u001b[0mbytes\u001b[0m\u001b[0;34m,\u001b[0m \u001b[0mbytearray\u001b[0m\u001b[0;34m,\u001b[0m \u001b[0mmemoryview\u001b[0m\u001b[0;34m,\u001b[0m \u001b[0mtype\u001b[0m\u001b[0;34m(\u001b[0m\u001b[0;32mNone\u001b[0m\u001b[0;34m)\u001b[0m\u001b[0;34m)\u001b[0m\u001b[0;34m\u001b[0m\u001b[0;34m\u001b[0m\u001b[0m\n\u001b[0;32m--> 585\u001b[0;31m             \u001b[0;32massert\u001b[0m \u001b[0mtype\u001b[0m\u001b[0;34m(\u001b[0m\u001b[0mvalue_bytes\u001b[0m\u001b[0;34m)\u001b[0m \u001b[0;32min\u001b[0m \u001b[0;34m(\u001b[0m\u001b[0mbytes\u001b[0m\u001b[0;34m,\u001b[0m \u001b[0mbytearray\u001b[0m\u001b[0;34m,\u001b[0m \u001b[0mmemoryview\u001b[0m\u001b[0;34m,\u001b[0m \u001b[0mtype\u001b[0m\u001b[0;34m(\u001b[0m\u001b[0;32mNone\u001b[0m\u001b[0;34m)\u001b[0m\u001b[0;34m)\u001b[0m\u001b[0;34m\u001b[0m\u001b[0;34m\u001b[0m\u001b[0m\n\u001b[0m\u001b[1;32m    586\u001b[0m \u001b[0;34m\u001b[0m\u001b[0m\n\u001b[1;32m    587\u001b[0m             partition = self._partition(topic, partition, key, value,\n",
      "\u001b[0;31mAssertionError\u001b[0m: "
     ]
    }
   ],
   "source": [
    "get_crypto_data()"
   ]
  },
  {
   "cell_type": "code",
   "execution_count": null,
   "id": "11761e7e-ba69-43ca-934a-39027c654a70",
   "metadata": {},
   "outputs": [],
   "source": []
  },
  {
   "cell_type": "code",
   "execution_count": null,
   "id": "f503cefe-59c0-4c52-a783-a3ff79d6d818",
   "metadata": {},
   "outputs": [],
   "source": []
  },
  {
   "cell_type": "code",
   "execution_count": null,
   "id": "3292de8f-e6a9-4677-b01c-f01b92802c14",
   "metadata": {},
   "outputs": [],
   "source": []
  }
 ],
 "metadata": {
  "kernelspec": {
   "display_name": "Python 3 (ipykernel)",
   "language": "python",
   "name": "python3"
  },
  "language_info": {
   "codemirror_mode": {
    "name": "ipython",
    "version": 3
   },
   "file_extension": ".py",
   "mimetype": "text/x-python",
   "name": "python",
   "nbconvert_exporter": "python",
   "pygments_lexer": "ipython3",
   "version": "3.9.7"
  }
 },
 "nbformat": 4,
 "nbformat_minor": 5
}
